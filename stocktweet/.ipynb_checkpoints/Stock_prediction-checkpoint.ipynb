{
 "cells": [
  {
   "cell_type": "code",
   "execution_count": 2,
   "id": "cfc0d86e-0973-4b01-8c28-eab0808522da",
   "metadata": {},
   "outputs": [],
   "source": [
    "import pandas as pd\n",
    "from formatting import col_lower_date\n",
    "import re\n",
    "import nltk\n",
    "import yfinance as yf\n",
    "from nltk.sentiment import SentimentIntensityAnalyzer\n",
    "from sklearn.model_selection import train_test_split\n",
    "from pmdarima import auto_arima\n",
    "from sklearn.preprocessing import MinMaxScaler\n",
    "from statsmodels.tsa.arima.model import ARIMA\n",
    "#nltk.download('vader_lexicon')"
   ]
  },
  {
   "cell_type": "code",
   "execution_count": null,
   "id": "0aa1bd83-6c22-4d7a-84bf-2186ed2403d9",
   "metadata": {},
   "outputs": [],
   "source": [
    "def clean_text(text):\n",
    "    text=re.sub(r'[^a-zA-Z0-9\\s]','',text)\n",
    "    text=text.lower()\n",
    "    return text\n",
    "    "
   ]
  },
  {
   "cell_type": "code",
   "execution_count": null,
   "id": "5d17fe87-f2e3-4858-bbd1-d032ac01f402",
   "metadata": {},
   "outputs": [],
   "source": [
    "def get_sentiment_score(text):\n",
    "    sia = SentimentIntensityAnalyzer()\n",
    "    if text and isinstance(text, str):\n",
    "        return sia.polarity_scores(text)['compound']\n",
    "    else:\n",
    "        return None"
   ]
  },
  {
   "cell_type": "code",
   "execution_count": 4,
   "id": "9bf0b889-8965-4d12-9616-9bd1237d2a7d",
   "metadata": {},
   "outputs": [],
   "source": [
    "tweets=pd.read_csv('stock_tweets.csv')\n",
    "tweets=col_lower_date(tweets)\n",
    "tweets['date']=pd.to_datetime(tweets['date'])\n",
    "AAPL_tweets=tweets[tweets.stock_name=='AAPL'].reset_index(drop=True)\n",
    "AAPL_tweets.to_csv('AAPL_twit.csv',index=False)"
   ]
  },
  {
   "cell_type": "code",
   "execution_count": null,
   "id": "1d4fa15d-4800-442c-a196-99514f52b5f0",
   "metadata": {},
   "outputs": [],
   "source": [
    "tweets=pd.read_csv('stock_tweets.csv')\n",
    "tweets=col_lower_date(tweets)\n",
    "tweets['date']=pd.to_datetime(tweets['date'])\n",
    "AAPL_tweets=tweets[tweets.stock_name=='AAPL'].set_index('date')[['tweet']]\n",
    "AAPL_tweets['tweet']=AAPL_tweets['tweet'].apply(lambda x: clean_text(x))\n",
    "AAPL_tweets['sentiment']=AAPL_tweets['tweet'].apply(lambda x: get_sentiment_score(x))\n",
    "AAPL_tweets=AAPL_tweets.groupby(pd.Grouper(freq='1D'))[['sentiment']].mean()\n",
    "\n",
    "AAPL_tweets=AAPL_tweets[['sentiment']]\n",
    "\n",
    "\n",
    "AAPL_tweets=AAPL_tweets[['sentiment']]\n",
    "date_range = pd.date_range(start=AAPL_tweets.index.min(), end=AAPL_tweets.index.max())\n",
    "AAPL_tweets.reindex(date_range)\n",
    "AAPL_tweets.index = AAPL_tweets.index.date\n",
    "AAPL_tweets=AAPL_tweets.ffill()\n",
    "\n"
   ]
  },
  {
   "cell_type": "code",
   "execution_count": null,
   "id": "f655737e-f502-4562-864b-b67a73c489bd",
   "metadata": {},
   "outputs": [],
   "source": [
    "#stocks=pd.read_csv('stock_yfinance_data.csv')\n",
    "\n",
    "start_date = '2021-09-30'\n",
    "end_date = '2022-09-30'\n",
    "AAPL_stocks=yf.download('AAPL',start=start_date, end=end_date)\n",
    "AAPL_stocks=col_lower_date(AAPL_stocks)\n",
    "\n",
    "\n",
    "date_range = pd.date_range(start=AAPL_stocks.index.min(), end=AAPL_stocks.index.max())\n",
    "\n",
    "# Set the date range as the index\n",
    "AAPL_stocks = AAPL_stocks.reindex(date_range)\n",
    "AAPL_stocks=AAPL_stocks.ffill()"
   ]
  },
  {
   "cell_type": "code",
   "execution_count": null,
   "id": "aa342aa5-ba64-4167-a7ab-308962b67d6e",
   "metadata": {},
   "outputs": [],
   "source": [
    "AAPL_tweets=AAPL_tweets.reset_index().rename(columns={'index':'date'})"
   ]
  },
  {
   "cell_type": "code",
   "execution_count": null,
   "id": "f28dd3dc-c39e-4c16-9b49-1b9e22e6ae4d",
   "metadata": {},
   "outputs": [],
   "source": [
    "AAPL_tweets"
   ]
  },
  {
   "cell_type": "code",
   "execution_count": null,
   "id": "cc2de244-a5a6-4ee1-96da-ee584406102a",
   "metadata": {},
   "outputs": [],
   "source": [
    "date_range = pd.date_range(start=AAPL_stocks.index.min(), end=AAPL_stocks.index.max())"
   ]
  },
  {
   "cell_type": "code",
   "execution_count": null,
   "id": "5fc7e101-719b-4888-9c2f-a3a7884bcaee",
   "metadata": {},
   "outputs": [],
   "source": [
    "date_range"
   ]
  },
  {
   "cell_type": "code",
   "execution_count": null,
   "id": "7d0e5248-27d0-4412-9fa2-bec13ea7a25f",
   "metadata": {},
   "outputs": [],
   "source": [
    "AAPL=pd.merge(AAPL_tweets,AAPL_stocks,left_index=True,right_index=True)[['tweet','close','volume']]"
   ]
  },
  {
   "cell_type": "code",
   "execution_count": null,
   "id": "a41e915a-5158-461b-a7ac-7bd705eeee85",
   "metadata": {},
   "outputs": [],
   "source": [
    "AAPL.to_csv('AAPL.csv',index=False)"
   ]
  },
  {
   "cell_type": "code",
   "execution_count": null,
   "id": "4f4cd04e-bf4d-4714-872d-c635be0c2a30",
   "metadata": {},
   "outputs": [],
   "source": [
    "AAPL_stocks=AAPL_stocks.reset_index().rename(columns={'index':'date'})"
   ]
  },
  {
   "cell_type": "code",
   "execution_count": null,
   "id": "00c0b940-21b2-49e3-ad62-e0fe3b1efdc6",
   "metadata": {},
   "outputs": [],
   "source": [
    "AAPL=pd.read_csv('AAPL.csv')"
   ]
  },
  {
   "cell_type": "code",
   "execution_count": null,
   "id": "e5f6c0b3-a8cf-4713-87cb-347b973f4639",
   "metadata": {},
   "outputs": [],
   "source": [
    "AAPL_tweets.to_csv('AAPL_tweets.csv',index=False)"
   ]
  },
  {
   "cell_type": "code",
   "execution_count": null,
   "id": "c62d967a-bfc2-494b-a58f-31f5fb5d5822",
   "metadata": {},
   "outputs": [],
   "source": [
    "tweets=pd.read_csv('stock_tweets.csv')\n",
    "tweets=col_lower_date(tweets)\n",
    "tweets['date']=pd.to_datetime(tweets['date'])\n",
    "AAPL_tweets=tweets[tweets.stock_name=='AAPL'].set_index('date')[['tweet']]\n",
    "AAPL_tweets['tweet']=AAPL_tweets['tweet'].apply(lambda x: clean_text(x))\n",
    "#AAPL_tweets['sentiment']=AAPL_tweets['tweet'].apply(lambda x: get_sentiment_score(x))\n",
    "#AAPL_tweets=AAPL_tweets.groupby(pd.Grouper(freq='1D'))[['sentiment']].mean()"
   ]
  },
  {
   "cell_type": "code",
   "execution_count": null,
   "id": "325a5ff7-649e-49f0-b666-9cb3b67c6923",
   "metadata": {},
   "outputs": [],
   "source": [
    "AAPL_tweets.index = AAPL_tweets.index.date"
   ]
  },
  {
   "cell_type": "code",
   "execution_count": null,
   "id": "fea7408a-a74b-4ac8-8b68-b2d72564c3ba",
   "metadata": {},
   "outputs": [],
   "source": [
    "AAPL_tweets.to_csv('AAPL_tweets.csv')"
   ]
  },
  {
   "cell_type": "code",
   "execution_count": null,
   "id": "d4286401-b793-4af9-bcb0-cebe0dee8254",
   "metadata": {},
   "outputs": [],
   "source": []
  }
 ],
 "metadata": {
  "kernelspec": {
   "display_name": "Python 3 (ipykernel)",
   "language": "python",
   "name": "python3"
  },
  "language_info": {
   "codemirror_mode": {
    "name": "ipython",
    "version": 3
   },
   "file_extension": ".py",
   "mimetype": "text/x-python",
   "name": "python",
   "nbconvert_exporter": "python",
   "pygments_lexer": "ipython3",
   "version": "3.12.2"
  }
 },
 "nbformat": 4,
 "nbformat_minor": 5
}
